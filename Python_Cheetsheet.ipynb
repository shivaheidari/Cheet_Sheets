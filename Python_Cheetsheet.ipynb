{
 "cells": [
  {
   "cell_type": "markdown",
   "metadata": {},
   "source": [
    "<h1>Python Cheat Sheet</h1>\n",
    "\n"
   ]
  },
  {
   "cell_type": "markdown",
   "metadata": {},
   "source": [
    "<h2>Variables</h2>"
   ]
  },
  {
   "cell_type": "markdown",
   "metadata": {},
   "source": [
    "Price is integer</br>\n",
    "Rating in float</br>\n",
    "cours_name is string</br>\n",
    "is_published is boolean"
   ]
  },
  {
   "cell_type": "code",
   "execution_count": 49,
   "metadata": {},
   "outputs": [],
   "source": [
    "price=10 \n",
    "rating=4.9\n",
    "course_name=\"python\"\n",
    "is_published=True"
   ]
  },
  {
   "cell_type": "code",
   "execution_count": 50,
   "metadata": {},
   "outputs": [
    {
     "name": "stdout",
     "output_type": "stream",
     "text": [
      "P\n",
      "t\n",
      "Python\n"
     ]
    }
   ],
   "source": [
    "sentence=\"Python cheat sheet\"\n",
    "#the first element\n",
    "print(sentence[0])\n",
    "#the last element\n",
    "print(sentence[-1])\n",
    "print(sentence[0:6])"
   ]
  },
  {
   "cell_type": "code",
   "execution_count": 51,
   "metadata": {},
   "outputs": [
    {
     "name": "stdout",
     "output_type": "stream",
     "text": [
      "Hello. My name is Penelope\n"
     ]
    }
   ],
   "source": [
    "name=\"Penelope\"\n",
    "message=f'Hello. My name is {name}'\n",
    "print(message)"
   ]
  },
  {
   "cell_type": "code",
   "execution_count": 52,
   "metadata": {},
   "outputs": [
    {
     "name": "stdout",
     "output_type": "stream",
     "text": [
      "PENELOPE\n",
      "penelope\n",
      "Hello. My Name Is Penelope\n",
      "18\n",
      "Hello. My name is Mar\n",
      "False\n",
      "True\n"
     ]
    }
   ],
   "source": [
    "print(name.upper())\n",
    "print(name.lower())\n",
    "print(message.title())\n",
    "#returns the first occurance of letter. It is case sensetive\n",
    "print(message.find(\"Penelope\"))\n",
    "print(message.replace('Penelope',\"Mar\"))\n",
    "contains='Hi' in message\n",
    "print(contains)\n",
    "contains='Hello' in message\n",
    "print(contains)"
   ]
  },
  {
   "cell_type": "markdown",
   "metadata": {},
   "source": [
    "<h2>Arithmatic Operations</h2>"
   ]
  },
  {
   "cell_type": "code",
   "execution_count": 53,
   "metadata": {},
   "outputs": [
    {
     "name": "stdout",
     "output_type": "stream",
     "text": [
      "10\n",
      "-10\n",
      "-3.3333333333333335\n",
      "-4\n",
      "2\n",
      "100\n"
     ]
    }
   ],
   "source": [
    "x=0\n",
    "x+=10\n",
    "print(x)\n",
    "x-=20\n",
    "print(x)\n",
    "print(x/3)\n",
    "print(x//3)\n",
    "print(x%3)\n",
    "#power\n",
    "print(x**2)"
   ]
  },
  {
   "cell_type": "markdown",
   "metadata": {},
   "source": [
    "<h2>If Statements</h2>"
   ]
  },
  {
   "cell_type": "code",
   "execution_count": 54,
   "metadata": {},
   "outputs": [
    {
     "name": "stdout",
     "output_type": "stream",
     "text": [
      "Sunny and hot\n"
     ]
    }
   ],
   "source": [
    "is_hot=True\n",
    "is_cold=False\n",
    "if is_hot:\n",
    "    print(\"Sunny and hot\")\n",
    "elif is_cold:\n",
    "     print(\"Take a Jacket\")\n",
    "else:\n",
    "    Print(\"have a good day\")\n"
   ]
  },
  {
   "cell_type": "markdown",
   "metadata": {},
   "source": [
    "<h3>logical operators</h3>\n"
   ]
  },
  {
   "cell_type": "code",
   "execution_count": 55,
   "metadata": {},
   "outputs": [
    {
     "name": "stdout",
     "output_type": "stream",
     "text": [
      "Partially trustable\n"
     ]
    }
   ],
   "source": [
    "\n",
    "has_high_income=True\n",
    "has_good_credit=False\n",
    "if has_high_income and has_good_credit:\n",
    "    \n",
    "    print(\"is not trustable\")\n",
    "elif has_high_income or has_good_credit:\n",
    "    print(\"Partially trustable\")"
   ]
  },
  {
   "cell_type": "markdown",
   "metadata": {},
   "source": [
    "<h3>Comparision operators</h3>"
   ]
  },
  {
   "cell_type": "code",
   "execution_count": 56,
   "metadata": {},
   "outputs": [
    {
     "name": "stdout",
     "output_type": "stream",
     "text": [
      "False\n",
      "True\n",
      "True\n",
      "False\n",
      "False\n",
      "True\n"
     ]
    }
   ],
   "source": [
    "a=20\n",
    "b=30\n",
    "print(a>b)\n",
    "print(a<b)\n",
    "print(a<=b)\n",
    "print(a>=b)\n",
    "print(a==b)\n",
    "print(a!=b)"
   ]
  },
  {
   "cell_type": "markdown",
   "metadata": {},
   "source": [
    "<h2>While loop</h2>"
   ]
  },
  {
   "cell_type": "code",
   "execution_count": 57,
   "metadata": {},
   "outputs": [
    {
     "name": "stdout",
     "output_type": "stream",
     "text": [
      "1\n",
      "2\n",
      "3\n",
      "4\n"
     ]
    }
   ],
   "source": [
    "i=1\n",
    "while i<5:\n",
    "    print(i)\n",
    "    i+=1"
   ]
  },
  {
   "cell_type": "markdown",
   "metadata": {},
   "source": [
    "<h3>for loops</h3>"
   ]
  },
  {
   "cell_type": "code",
   "execution_count": 58,
   "metadata": {},
   "outputs": [
    {
     "name": "stdout",
     "output_type": "stream",
     "text": [
      "1\n",
      "2\n",
      "3\n",
      "4\n",
      "####\n",
      "0\n",
      "1\n",
      "2\n",
      "3\n",
      "4\n",
      "####\n",
      "1\n",
      "3\n"
     ]
    }
   ],
   "source": [
    "for i in range(1,5):\n",
    "    print(i)\n",
    "print(\"####\")\n",
    "for i in range(5):\n",
    "    print(i)\n",
    "print(\"####\")\n",
    "for i in range(1,5,2):\n",
    "    print(i)"
   ]
  },
  {
   "cell_type": "markdown",
   "metadata": {},
   "source": [
    "<h2>Lists</h2>"
   ]
  },
  {
   "cell_type": "code",
   "execution_count": 59,
   "metadata": {},
   "outputs": [
    {
     "name": "stdout",
     "output_type": "stream",
     "text": [
      "1\n",
      "4\n"
     ]
    }
   ],
   "source": [
    "numbers=[1,2,3,4]\n",
    "print(numbers[0])\n",
    "print(numbers[-1])"
   ]
  },
  {
   "cell_type": "code",
   "execution_count": 60,
   "metadata": {},
   "outputs": [
    {
     "name": "stdout",
     "output_type": "stream",
     "text": [
      "[1, 2, 3, 4, 6]\n",
      "[-2, 1, 2, 3, 4, 6]\n",
      "[1, 2, 3, 4, 6]\n",
      "[1, 2, 3, 4]\n",
      "[1, 2, 3, 4]\n",
      "[4, 3, 2, 1]\n",
      "[]\n"
     ]
    }
   ],
   "source": [
    "numbers.append(6)\n",
    "print(numbers)\n",
    "numbers.insert(0,-2)# adds -2 at the index position of 0\n",
    "print(numbers)\n",
    "numbers.remove(-2)\n",
    "print(numbers)\n",
    "numbers.pop()#removes the last item\n",
    "print(numbers)\n",
    "numbers.sort()\n",
    "print(numbers)\n",
    "numbers.reverse()\n",
    "print(numbers)\n",
    "numbers2=numbers.copy()\n",
    "numbers.clear()#removes all items\n",
    "print(numbers)"
   ]
  },
  {
   "cell_type": "markdown",
   "metadata": {},
   "source": [
    "<h2>Tuples</h2>\n",
    "tuples are like lists but items can not be add or remove.\n",
    "they are used for store a list of items."
   ]
  },
  {
   "cell_type": "code",
   "execution_count": 61,
   "metadata": {},
   "outputs": [
    {
     "name": "stdout",
     "output_type": "stream",
     "text": [
      "1 2 3\n"
     ]
    }
   ],
   "source": [
    "coordinates=(1,2,3)\n",
    "x,y,z=coordinates\n",
    "print(x,y,z)"
   ]
  },
  {
   "cell_type": "markdown",
   "metadata": {},
   "source": [
    "<h2>Dictionaries</h2>"
   ]
  },
  {
   "cell_type": "code",
   "execution_count": 62,
   "metadata": {},
   "outputs": [
    {
     "name": "stdout",
     "output_type": "stream",
     "text": [
      "John Snow\n"
     ]
    }
   ],
   "source": [
    "customer={\"name\":\"John Snow\",\"age\":30, \"is_verified\":True}\n",
    "print(customer[\"name\"])"
   ]
  },
  {
   "cell_type": "markdown",
   "metadata": {},
   "source": [
    "<h2>Functions</h2>"
   ]
  },
  {
   "cell_type": "code",
   "execution_count": 63,
   "metadata": {},
   "outputs": [
    {
     "name": "stdout",
     "output_type": "stream",
     "text": [
      "Hi John\n"
     ]
    }
   ],
   "source": [
    "def greet_User(name):\n",
    "    print(f\"Hi {name}\")\n",
    "greet_User(\"John\")"
   ]
  },
  {
   "cell_type": "markdown",
   "metadata": {},
   "source": [
    "<h2>Classes</h2>"
   ]
  },
  {
   "cell_type": "code",
   "execution_count": 66,
   "metadata": {},
   "outputs": [
    {
     "name": "stdout",
     "output_type": "stream",
     "text": [
      "move\n"
     ]
    }
   ],
   "source": [
    "class point:\n",
    "    def __init__(self,x,y):\n",
    "        self.x=x\n",
    "        self.y=y\n",
    "    def move(self):\n",
    "        print(\"move\")\n",
    "point=point(10,5)\n",
    "point.move()"
   ]
  },
  {
   "cell_type": "code",
   "execution_count": 67,
   "metadata": {},
   "outputs": [
    {
     "name": "stdout",
     "output_type": "stream",
     "text": [
      "Walk\n",
      "Bark\n"
     ]
    }
   ],
   "source": [
    "class Mammal:\n",
    "    def walk(self):\n",
    "        print(\"Walk\")\n",
    "class Dog(Mammal):\n",
    "    def bark(self):\n",
    "        print(\"Bark\")\n",
    "dog=Dog()\n",
    "dog.walk()\n",
    "dog.bark()"
   ]
  }
 ],
 "metadata": {
  "kernelspec": {
   "display_name": "Python 3.8.8 64-bit",
   "language": "python",
   "name": "python3"
  },
  "language_info": {
   "codemirror_mode": {
    "name": "ipython",
    "version": 3
   },
   "file_extension": ".py",
   "mimetype": "text/x-python",
   "name": "python",
   "nbconvert_exporter": "python",
   "pygments_lexer": "ipython3",
   "version": "3.8.8"
  },
  "orig_nbformat": 4,
  "vscode": {
   "interpreter": {
    "hash": "8d7eff898b7c07a62f9029de547bededb6c36f21ffd9e9598c888db3c0c890e0"
   }
  }
 },
 "nbformat": 4,
 "nbformat_minor": 2
}
